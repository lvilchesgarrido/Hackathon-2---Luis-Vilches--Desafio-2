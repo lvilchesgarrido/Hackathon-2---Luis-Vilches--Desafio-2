{
 "cells": [
  {
   "cell_type": "code",
   "execution_count": 18,
   "id": "b98bb4d7-3e7d-4793-8fe0-2609d6d81a99",
   "metadata": {
    "jupyter": {
     "source_hidden": true
    }
   },
   "outputs": [],
   "source": [
    "import pandas as pd\n",
    "import numpy as np\n",
    "from sklearn.linear_model import LinearRegression\n",
    "from sklearn.preprocessing import PolynomialFeatures\n",
    "from sklearn.neural_network import MLPRegressor\n",
    "from sklearn.ensemble import RandomForestRegressor, GradientBoostingRegressor\n",
    "from xgboost import XGBRegressor\n",
    "from tensorflow.keras.models import Sequential\n",
    "from tensorflow.keras.layers import Dense, LSTM, GRU, SimpleRNN, Conv1D, Flatten\n",
    "from tensorflow.keras.optimizers import Adam\n",
    "from tensorflow.keras.layers import Input\n",
    "\n",
    "\n",
    "class KerasRegressorWrapper(BaseEstimator, RegressorMixin):\n",
    "    def __init__(self, build_fn, input_shape=None, epochs=100, batch_size=32, verbose=0):\n",
    "        self.build_fn = build_fn\n",
    "        self.input_shape = input_shape\n",
    "        self.epochs = epochs\n",
    "        self.batch_size = batch_size\n",
    "        self.verbose = verbose\n",
    "        self.model = None\n",
    "\n",
    "    def fit(self, X, y):\n",
    "        if self.input_shape:\n",
    "            X = np.asarray(X).reshape(-1, *self.input_shape)  # Convertir a array NumPy y luego hacer reshape\n",
    "        else:\n",
    "            X = np.asarray(X)\n",
    "        self.model = self.build_fn(self.input_shape)\n",
    "        self.model.fit(X, y, epochs=self.epochs, batch_size=self.batch_size, verbose=self.verbose)\n",
    "        return self\n",
    "\n",
    "    def predict(self, X):\n",
    "        if self.input_shape:\n",
    "            X = np.asarray(X).reshape(-1, *self.input_shape)  # Convertir a array NumPy y luego hacer reshape\n",
    "        else:\n",
    "            X = np.asarray(X)\n",
    "        return self.model.predict(X).flatten()\n",
    "\n",
    "# Función para crear un MLP (Multi-Layer Perceptron) en Keras\n",
    "def create_mlp_model(input_shape):\n",
    "    model = Sequential()\n",
    "    model.add(Dense(100, input_dim=input_shape[0], activation='relu'))\n",
    "    model.add(Dense(50, activation='relu'))\n",
    "    model.add(Dense(1))\n",
    "    model.compile(optimizer=Adam(learning_rate=0.01), loss='mse')\n",
    "    return model\n",
    "\n",
    "# Función para crear una RNN (Recurrent Neural Network) en Keras\n",
    "def create_rnn_model(input_shape):\n",
    "    model = Sequential()\n",
    "    model.add(SimpleRNN(50, input_shape=input_shape, activation='relu'))\n",
    "    model.add(Dense(1))\n",
    "    model.compile(optimizer=Adam(learning_rate=0.01), loss='mse')\n",
    "    return model\n",
    "\n",
    "# Función para crear una LSTM (Long Short-Term Memory) en Keras\n",
    "def create_lstm_model(input_shape):\n",
    "    model = Sequential()\n",
    "    model.add(LSTM(50, input_shape=input_shape, activation='relu'))\n",
    "    model.add(Dense(1))\n",
    "    model.compile(optimizer=Adam(learning_rate=0.01), loss='mse')\n",
    "    return model\n",
    "\n",
    "# Función para crear una GRU (Gated Recurrent Unit) en Keras\n",
    "def create_gru_model(input_shape):\n",
    "    model = Sequential()\n",
    "    model.add(GRU(50, input_shape=input_shape, activation='relu'))\n",
    "    model.add(Dense(1))\n",
    "    model.compile(optimizer=Adam(learning_rate=0.01), loss='mse')\n",
    "    return model\n",
    "\n",
    "# Función para crear una CNN (Convolutional Neural Network) en Keras\n",
    "def create_cnn_model(input_shape):\n",
    "    model = Sequential()\n",
    "    model.add(Conv1D(64, kernel_size=2, activation='relu', input_shape=input_shape))\n",
    "    model.add(Flatten())\n",
    "    model.add(Dense(50, activation='relu'))\n",
    "    model.add(Dense(1))\n",
    "    model.compile(optimizer=Adam(learning_rate=0.01), loss='mse')\n",
    "    return model\n",
    "\n",
    "# Definir una lista de modelos a evaluar\n",
    "modelos = {\n",
    "    'Linear Regression': LinearRegression(),\n",
    "    'Polynomial Regression': LinearRegression(),  # Usaremos PolynomialFeatures más adelante\n",
    "    'Neural Network (MLP)': KerasRegressorWrapper(build_fn=create_mlp_model, input_shape=(3,), epochs=100),\n",
    "    'RNN': KerasRegressorWrapper(build_fn=create_rnn_model, input_shape=(3, 1), epochs=100),\n",
    "    'LSTM': KerasRegressorWrapper(build_fn=create_lstm_model, input_shape=(3, 1), epochs=100),\n",
    "    'GRU': KerasRegressorWrapper(build_fn=create_gru_model, input_shape=(3, 1), epochs=100),\n",
    "    'CNN': KerasRegressorWrapper(build_fn=create_cnn_model, input_shape=(3, 1), epochs=100),\n",
    "    'Random Forest': RandomForestRegressor(n_estimators=100, random_state=42),\n",
    "    'Gradient Boosting': GradientBoostingRegressor(n_estimators=100, random_state=42),\n",
    "    'XGBoost': XGBRegressor(n_estimators=100, random_state=42)\n",
    "}\n",
    "\n",
    "# Continua con la implementación del código...\n"
   ]
  },
  {
   "cell_type": "code",
   "execution_count": null,
   "id": "01a7cec3-7c64-4e0e-97c3-edde7230b642",
   "metadata": {},
   "outputs": [
    {
     "name": "stderr",
     "output_type": "stream",
     "text": [
      "C:\\Users\\Administrator\\AppData\\Local\\Programs\\Python\\Python312\\Lib\\site-packages\\keras\\src\\layers\\core\\dense.py:87: UserWarning: Do not pass an `input_shape`/`input_dim` argument to a layer. When using Sequential models, prefer using an `Input(shape)` object as the first layer in the model instead.\n",
      "  super().__init__(activity_regularizer=activity_regularizer, **kwargs)\n"
     ]
    },
    {
     "name": "stdout",
     "output_type": "stream",
     "text": [
      "\u001b[1m1/1\u001b[0m \u001b[32m━━━━━━━━━━━━━━━━━━━━\u001b[0m\u001b[37m\u001b[0m \u001b[1m0s\u001b[0m 38ms/step\n"
     ]
    },
    {
     "name": "stderr",
     "output_type": "stream",
     "text": [
      "C:\\Users\\Administrator\\AppData\\Local\\Programs\\Python\\Python312\\Lib\\site-packages\\keras\\src\\layers\\core\\dense.py:87: UserWarning: Do not pass an `input_shape`/`input_dim` argument to a layer. When using Sequential models, prefer using an `Input(shape)` object as the first layer in the model instead.\n",
      "  super().__init__(activity_regularizer=activity_regularizer, **kwargs)\n"
     ]
    },
    {
     "name": "stdout",
     "output_type": "stream",
     "text": [
      "\u001b[1m1/1\u001b[0m \u001b[32m━━━━━━━━━━━━━━━━━━━━\u001b[0m\u001b[37m\u001b[0m \u001b[1m0s\u001b[0m 34ms/step\n"
     ]
    },
    {
     "name": "stderr",
     "output_type": "stream",
     "text": [
      "C:\\Users\\Administrator\\AppData\\Local\\Programs\\Python\\Python312\\Lib\\site-packages\\keras\\src\\layers\\core\\dense.py:87: UserWarning: Do not pass an `input_shape`/`input_dim` argument to a layer. When using Sequential models, prefer using an `Input(shape)` object as the first layer in the model instead.\n",
      "  super().__init__(activity_regularizer=activity_regularizer, **kwargs)\n"
     ]
    },
    {
     "name": "stdout",
     "output_type": "stream",
     "text": [
      "\u001b[1m1/1\u001b[0m \u001b[32m━━━━━━━━━━━━━━━━━━━━\u001b[0m\u001b[37m\u001b[0m \u001b[1m0s\u001b[0m 33ms/step\n"
     ]
    },
    {
     "name": "stderr",
     "output_type": "stream",
     "text": [
      "C:\\Users\\Administrator\\AppData\\Local\\Programs\\Python\\Python312\\Lib\\site-packages\\keras\\src\\layers\\core\\dense.py:87: UserWarning: Do not pass an `input_shape`/`input_dim` argument to a layer. When using Sequential models, prefer using an `Input(shape)` object as the first layer in the model instead.\n",
      "  super().__init__(activity_regularizer=activity_regularizer, **kwargs)\n"
     ]
    },
    {
     "name": "stdout",
     "output_type": "stream",
     "text": [
      "\u001b[1m1/1\u001b[0m \u001b[32m━━━━━━━━━━━━━━━━━━━━\u001b[0m\u001b[37m\u001b[0m \u001b[1m0s\u001b[0m 33ms/step\n"
     ]
    },
    {
     "name": "stderr",
     "output_type": "stream",
     "text": [
      "C:\\Users\\Administrator\\AppData\\Local\\Programs\\Python\\Python312\\Lib\\site-packages\\keras\\src\\layers\\core\\dense.py:87: UserWarning: Do not pass an `input_shape`/`input_dim` argument to a layer. When using Sequential models, prefer using an `Input(shape)` object as the first layer in the model instead.\n",
      "  super().__init__(activity_regularizer=activity_regularizer, **kwargs)\n"
     ]
    },
    {
     "name": "stdout",
     "output_type": "stream",
     "text": [
      "\u001b[1m1/1\u001b[0m \u001b[32m━━━━━━━━━━━━━━━━━━━━\u001b[0m\u001b[37m\u001b[0m \u001b[1m0s\u001b[0m 32ms/step\n"
     ]
    },
    {
     "name": "stderr",
     "output_type": "stream",
     "text": [
      "C:\\Users\\Administrator\\AppData\\Local\\Programs\\Python\\Python312\\Lib\\site-packages\\keras\\src\\layers\\core\\dense.py:87: UserWarning: Do not pass an `input_shape`/`input_dim` argument to a layer. When using Sequential models, prefer using an `Input(shape)` object as the first layer in the model instead.\n",
      "  super().__init__(activity_regularizer=activity_regularizer, **kwargs)\n"
     ]
    },
    {
     "name": "stdout",
     "output_type": "stream",
     "text": [
      "\u001b[1m1/1\u001b[0m \u001b[32m━━━━━━━━━━━━━━━━━━━━\u001b[0m\u001b[37m\u001b[0m \u001b[1m0s\u001b[0m 33ms/step\n"
     ]
    },
    {
     "name": "stderr",
     "output_type": "stream",
     "text": [
      "C:\\Users\\Administrator\\AppData\\Local\\Programs\\Python\\Python312\\Lib\\site-packages\\keras\\src\\layers\\core\\dense.py:87: UserWarning: Do not pass an `input_shape`/`input_dim` argument to a layer. When using Sequential models, prefer using an `Input(shape)` object as the first layer in the model instead.\n",
      "  super().__init__(activity_regularizer=activity_regularizer, **kwargs)\n"
     ]
    },
    {
     "name": "stdout",
     "output_type": "stream",
     "text": [
      "\u001b[1m1/1\u001b[0m \u001b[32m━━━━━━━━━━━━━━━━━━━━\u001b[0m\u001b[37m\u001b[0m \u001b[1m0s\u001b[0m 31ms/step\n"
     ]
    },
    {
     "name": "stderr",
     "output_type": "stream",
     "text": [
      "C:\\Users\\Administrator\\AppData\\Local\\Programs\\Python\\Python312\\Lib\\site-packages\\keras\\src\\layers\\core\\dense.py:87: UserWarning: Do not pass an `input_shape`/`input_dim` argument to a layer. When using Sequential models, prefer using an `Input(shape)` object as the first layer in the model instead.\n",
      "  super().__init__(activity_regularizer=activity_regularizer, **kwargs)\n"
     ]
    },
    {
     "name": "stdout",
     "output_type": "stream",
     "text": [
      "\u001b[1m1/1\u001b[0m \u001b[32m━━━━━━━━━━━━━━━━━━━━\u001b[0m\u001b[37m\u001b[0m \u001b[1m0s\u001b[0m 32ms/step\n"
     ]
    },
    {
     "name": "stderr",
     "output_type": "stream",
     "text": [
      "C:\\Users\\Administrator\\AppData\\Local\\Programs\\Python\\Python312\\Lib\\site-packages\\keras\\src\\layers\\core\\dense.py:87: UserWarning: Do not pass an `input_shape`/`input_dim` argument to a layer. When using Sequential models, prefer using an `Input(shape)` object as the first layer in the model instead.\n",
      "  super().__init__(activity_regularizer=activity_regularizer, **kwargs)\n"
     ]
    },
    {
     "name": "stdout",
     "output_type": "stream",
     "text": [
      "\u001b[1m1/1\u001b[0m \u001b[32m━━━━━━━━━━━━━━━━━━━━\u001b[0m\u001b[37m\u001b[0m \u001b[1m0s\u001b[0m 32ms/step\n"
     ]
    },
    {
     "name": "stderr",
     "output_type": "stream",
     "text": [
      "C:\\Users\\Administrator\\AppData\\Local\\Programs\\Python\\Python312\\Lib\\site-packages\\keras\\src\\layers\\core\\dense.py:87: UserWarning: Do not pass an `input_shape`/`input_dim` argument to a layer. When using Sequential models, prefer using an `Input(shape)` object as the first layer in the model instead.\n",
      "  super().__init__(activity_regularizer=activity_regularizer, **kwargs)\n"
     ]
    },
    {
     "name": "stdout",
     "output_type": "stream",
     "text": [
      "\u001b[1m1/1\u001b[0m \u001b[32m━━━━━━━━━━━━━━━━━━━━\u001b[0m\u001b[37m\u001b[0m \u001b[1m0s\u001b[0m 33ms/step\n"
     ]
    },
    {
     "name": "stderr",
     "output_type": "stream",
     "text": [
      "C:\\Users\\Administrator\\AppData\\Local\\Programs\\Python\\Python312\\Lib\\site-packages\\keras\\src\\layers\\core\\dense.py:87: UserWarning: Do not pass an `input_shape`/`input_dim` argument to a layer. When using Sequential models, prefer using an `Input(shape)` object as the first layer in the model instead.\n",
      "  super().__init__(activity_regularizer=activity_regularizer, **kwargs)\n"
     ]
    },
    {
     "name": "stdout",
     "output_type": "stream",
     "text": [
      "\u001b[1m1/1\u001b[0m \u001b[32m━━━━━━━━━━━━━━━━━━━━\u001b[0m\u001b[37m\u001b[0m \u001b[1m0s\u001b[0m 31ms/step\n"
     ]
    },
    {
     "name": "stderr",
     "output_type": "stream",
     "text": [
      "C:\\Users\\Administrator\\AppData\\Local\\Programs\\Python\\Python312\\Lib\\site-packages\\keras\\src\\layers\\core\\dense.py:87: UserWarning: Do not pass an `input_shape`/`input_dim` argument to a layer. When using Sequential models, prefer using an `Input(shape)` object as the first layer in the model instead.\n",
      "  super().__init__(activity_regularizer=activity_regularizer, **kwargs)\n"
     ]
    },
    {
     "name": "stdout",
     "output_type": "stream",
     "text": [
      "\u001b[1m1/1\u001b[0m \u001b[32m━━━━━━━━━━━━━━━━━━━━\u001b[0m\u001b[37m\u001b[0m \u001b[1m0s\u001b[0m 31ms/step\n"
     ]
    },
    {
     "name": "stderr",
     "output_type": "stream",
     "text": [
      "C:\\Users\\Administrator\\AppData\\Local\\Programs\\Python\\Python312\\Lib\\site-packages\\keras\\src\\layers\\core\\dense.py:87: UserWarning: Do not pass an `input_shape`/`input_dim` argument to a layer. When using Sequential models, prefer using an `Input(shape)` object as the first layer in the model instead.\n",
      "  super().__init__(activity_regularizer=activity_regularizer, **kwargs)\n"
     ]
    },
    {
     "name": "stdout",
     "output_type": "stream",
     "text": [
      "\u001b[1m1/1\u001b[0m \u001b[32m━━━━━━━━━━━━━━━━━━━━\u001b[0m\u001b[37m\u001b[0m \u001b[1m0s\u001b[0m 48ms/step\n"
     ]
    },
    {
     "name": "stderr",
     "output_type": "stream",
     "text": [
      "C:\\Users\\Administrator\\AppData\\Local\\Programs\\Python\\Python312\\Lib\\site-packages\\keras\\src\\layers\\core\\dense.py:87: UserWarning: Do not pass an `input_shape`/`input_dim` argument to a layer. When using Sequential models, prefer using an `Input(shape)` object as the first layer in the model instead.\n",
      "  super().__init__(activity_regularizer=activity_regularizer, **kwargs)\n"
     ]
    },
    {
     "name": "stdout",
     "output_type": "stream",
     "text": [
      "\u001b[1m1/1\u001b[0m \u001b[32m━━━━━━━━━━━━━━━━━━━━\u001b[0m\u001b[37m\u001b[0m \u001b[1m0s\u001b[0m 33ms/step\n"
     ]
    },
    {
     "name": "stderr",
     "output_type": "stream",
     "text": [
      "C:\\Users\\Administrator\\AppData\\Local\\Programs\\Python\\Python312\\Lib\\site-packages\\keras\\src\\layers\\core\\dense.py:87: UserWarning: Do not pass an `input_shape`/`input_dim` argument to a layer. When using Sequential models, prefer using an `Input(shape)` object as the first layer in the model instead.\n",
      "  super().__init__(activity_regularizer=activity_regularizer, **kwargs)\n"
     ]
    },
    {
     "name": "stdout",
     "output_type": "stream",
     "text": [
      "\u001b[1m1/1\u001b[0m \u001b[32m━━━━━━━━━━━━━━━━━━━━\u001b[0m\u001b[37m\u001b[0m \u001b[1m0s\u001b[0m 31ms/step\n"
     ]
    },
    {
     "name": "stderr",
     "output_type": "stream",
     "text": [
      "C:\\Users\\Administrator\\AppData\\Local\\Programs\\Python\\Python312\\Lib\\site-packages\\keras\\src\\layers\\core\\dense.py:87: UserWarning: Do not pass an `input_shape`/`input_dim` argument to a layer. When using Sequential models, prefer using an `Input(shape)` object as the first layer in the model instead.\n",
      "  super().__init__(activity_regularizer=activity_regularizer, **kwargs)\n"
     ]
    },
    {
     "name": "stdout",
     "output_type": "stream",
     "text": [
      "\u001b[1m1/1\u001b[0m \u001b[32m━━━━━━━━━━━━━━━━━━━━\u001b[0m\u001b[37m\u001b[0m \u001b[1m0s\u001b[0m 31ms/step\n"
     ]
    },
    {
     "name": "stderr",
     "output_type": "stream",
     "text": [
      "C:\\Users\\Administrator\\AppData\\Local\\Programs\\Python\\Python312\\Lib\\site-packages\\keras\\src\\layers\\core\\dense.py:87: UserWarning: Do not pass an `input_shape`/`input_dim` argument to a layer. When using Sequential models, prefer using an `Input(shape)` object as the first layer in the model instead.\n",
      "  super().__init__(activity_regularizer=activity_regularizer, **kwargs)\n"
     ]
    },
    {
     "name": "stdout",
     "output_type": "stream",
     "text": [
      "\u001b[1m1/1\u001b[0m \u001b[32m━━━━━━━━━━━━━━━━━━━━\u001b[0m\u001b[37m\u001b[0m \u001b[1m0s\u001b[0m 32ms/step\n"
     ]
    },
    {
     "name": "stderr",
     "output_type": "stream",
     "text": [
      "C:\\Users\\Administrator\\AppData\\Local\\Programs\\Python\\Python312\\Lib\\site-packages\\keras\\src\\layers\\core\\dense.py:87: UserWarning: Do not pass an `input_shape`/`input_dim` argument to a layer. When using Sequential models, prefer using an `Input(shape)` object as the first layer in the model instead.\n",
      "  super().__init__(activity_regularizer=activity_regularizer, **kwargs)\n"
     ]
    },
    {
     "name": "stdout",
     "output_type": "stream",
     "text": [
      "\u001b[1m1/1\u001b[0m \u001b[32m━━━━━━━━━━━━━━━━━━━━\u001b[0m\u001b[37m\u001b[0m \u001b[1m0s\u001b[0m 32ms/step\n"
     ]
    },
    {
     "name": "stderr",
     "output_type": "stream",
     "text": [
      "C:\\Users\\Administrator\\AppData\\Local\\Programs\\Python\\Python312\\Lib\\site-packages\\keras\\src\\layers\\core\\dense.py:87: UserWarning: Do not pass an `input_shape`/`input_dim` argument to a layer. When using Sequential models, prefer using an `Input(shape)` object as the first layer in the model instead.\n",
      "  super().__init__(activity_regularizer=activity_regularizer, **kwargs)\n"
     ]
    },
    {
     "name": "stdout",
     "output_type": "stream",
     "text": [
      "\u001b[1m1/1\u001b[0m \u001b[32m━━━━━━━━━━━━━━━━━━━━\u001b[0m\u001b[37m\u001b[0m \u001b[1m0s\u001b[0m 32ms/step\n"
     ]
    },
    {
     "name": "stderr",
     "output_type": "stream",
     "text": [
      "C:\\Users\\Administrator\\AppData\\Local\\Programs\\Python\\Python312\\Lib\\site-packages\\keras\\src\\layers\\core\\dense.py:87: UserWarning: Do not pass an `input_shape`/`input_dim` argument to a layer. When using Sequential models, prefer using an `Input(shape)` object as the first layer in the model instead.\n",
      "  super().__init__(activity_regularizer=activity_regularizer, **kwargs)\n"
     ]
    },
    {
     "name": "stdout",
     "output_type": "stream",
     "text": [
      "\u001b[1m1/1\u001b[0m \u001b[32m━━━━━━━━━━━━━━━━━━━━\u001b[0m\u001b[37m\u001b[0m \u001b[1m0s\u001b[0m 32ms/step\n"
     ]
    },
    {
     "name": "stderr",
     "output_type": "stream",
     "text": [
      "C:\\Users\\Administrator\\AppData\\Local\\Programs\\Python\\Python312\\Lib\\site-packages\\keras\\src\\layers\\core\\dense.py:87: UserWarning: Do not pass an `input_shape`/`input_dim` argument to a layer. When using Sequential models, prefer using an `Input(shape)` object as the first layer in the model instead.\n",
      "  super().__init__(activity_regularizer=activity_regularizer, **kwargs)\n"
     ]
    },
    {
     "name": "stdout",
     "output_type": "stream",
     "text": [
      "\u001b[1m1/1\u001b[0m \u001b[32m━━━━━━━━━━━━━━━━━━━━\u001b[0m\u001b[37m\u001b[0m \u001b[1m0s\u001b[0m 31ms/step\n"
     ]
    },
    {
     "name": "stderr",
     "output_type": "stream",
     "text": [
      "C:\\Users\\Administrator\\AppData\\Local\\Programs\\Python\\Python312\\Lib\\site-packages\\keras\\src\\layers\\core\\dense.py:87: UserWarning: Do not pass an `input_shape`/`input_dim` argument to a layer. When using Sequential models, prefer using an `Input(shape)` object as the first layer in the model instead.\n",
      "  super().__init__(activity_regularizer=activity_regularizer, **kwargs)\n"
     ]
    },
    {
     "name": "stdout",
     "output_type": "stream",
     "text": [
      "\u001b[1m1/1\u001b[0m \u001b[32m━━━━━━━━━━━━━━━━━━━━\u001b[0m\u001b[37m\u001b[0m \u001b[1m0s\u001b[0m 32ms/step\n"
     ]
    },
    {
     "name": "stderr",
     "output_type": "stream",
     "text": [
      "C:\\Users\\Administrator\\AppData\\Local\\Programs\\Python\\Python312\\Lib\\site-packages\\keras\\src\\layers\\core\\dense.py:87: UserWarning: Do not pass an `input_shape`/`input_dim` argument to a layer. When using Sequential models, prefer using an `Input(shape)` object as the first layer in the model instead.\n",
      "  super().__init__(activity_regularizer=activity_regularizer, **kwargs)\n"
     ]
    },
    {
     "name": "stdout",
     "output_type": "stream",
     "text": [
      "\u001b[1m1/1\u001b[0m \u001b[32m━━━━━━━━━━━━━━━━━━━━\u001b[0m\u001b[37m\u001b[0m \u001b[1m0s\u001b[0m 31ms/step\n"
     ]
    },
    {
     "name": "stderr",
     "output_type": "stream",
     "text": [
      "C:\\Users\\Administrator\\AppData\\Local\\Programs\\Python\\Python312\\Lib\\site-packages\\keras\\src\\layers\\core\\dense.py:87: UserWarning: Do not pass an `input_shape`/`input_dim` argument to a layer. When using Sequential models, prefer using an `Input(shape)` object as the first layer in the model instead.\n",
      "  super().__init__(activity_regularizer=activity_regularizer, **kwargs)\n"
     ]
    },
    {
     "name": "stdout",
     "output_type": "stream",
     "text": [
      "\u001b[1m1/1\u001b[0m \u001b[32m━━━━━━━━━━━━━━━━━━━━\u001b[0m\u001b[37m\u001b[0m \u001b[1m0s\u001b[0m 32ms/step\n"
     ]
    },
    {
     "name": "stderr",
     "output_type": "stream",
     "text": [
      "C:\\Users\\Administrator\\AppData\\Local\\Programs\\Python\\Python312\\Lib\\site-packages\\keras\\src\\layers\\core\\dense.py:87: UserWarning: Do not pass an `input_shape`/`input_dim` argument to a layer. When using Sequential models, prefer using an `Input(shape)` object as the first layer in the model instead.\n",
      "  super().__init__(activity_regularizer=activity_regularizer, **kwargs)\n"
     ]
    },
    {
     "name": "stdout",
     "output_type": "stream",
     "text": [
      "\u001b[1m1/1\u001b[0m \u001b[32m━━━━━━━━━━━━━━━━━━━━\u001b[0m\u001b[37m\u001b[0m \u001b[1m0s\u001b[0m 31ms/step\n"
     ]
    },
    {
     "name": "stderr",
     "output_type": "stream",
     "text": [
      "C:\\Users\\Administrator\\AppData\\Local\\Programs\\Python\\Python312\\Lib\\site-packages\\keras\\src\\layers\\core\\dense.py:87: UserWarning: Do not pass an `input_shape`/`input_dim` argument to a layer. When using Sequential models, prefer using an `Input(shape)` object as the first layer in the model instead.\n",
      "  super().__init__(activity_regularizer=activity_regularizer, **kwargs)\n"
     ]
    },
    {
     "name": "stdout",
     "output_type": "stream",
     "text": [
      "\u001b[1m1/1\u001b[0m \u001b[32m━━━━━━━━━━━━━━━━━━━━\u001b[0m\u001b[37m\u001b[0m \u001b[1m0s\u001b[0m 31ms/step\n"
     ]
    },
    {
     "name": "stderr",
     "output_type": "stream",
     "text": [
      "C:\\Users\\Administrator\\AppData\\Local\\Programs\\Python\\Python312\\Lib\\site-packages\\keras\\src\\layers\\core\\dense.py:87: UserWarning: Do not pass an `input_shape`/`input_dim` argument to a layer. When using Sequential models, prefer using an `Input(shape)` object as the first layer in the model instead.\n",
      "  super().__init__(activity_regularizer=activity_regularizer, **kwargs)\n"
     ]
    },
    {
     "name": "stdout",
     "output_type": "stream",
     "text": [
      "\u001b[1m1/1\u001b[0m \u001b[32m━━━━━━━━━━━━━━━━━━━━\u001b[0m\u001b[37m\u001b[0m \u001b[1m0s\u001b[0m 30ms/step\n"
     ]
    },
    {
     "name": "stderr",
     "output_type": "stream",
     "text": [
      "C:\\Users\\Administrator\\AppData\\Local\\Programs\\Python\\Python312\\Lib\\site-packages\\keras\\src\\layers\\core\\dense.py:87: UserWarning: Do not pass an `input_shape`/`input_dim` argument to a layer. When using Sequential models, prefer using an `Input(shape)` object as the first layer in the model instead.\n",
      "  super().__init__(activity_regularizer=activity_regularizer, **kwargs)\n"
     ]
    },
    {
     "name": "stdout",
     "output_type": "stream",
     "text": [
      "\u001b[1m1/1\u001b[0m \u001b[32m━━━━━━━━━━━━━━━━━━━━\u001b[0m\u001b[37m\u001b[0m \u001b[1m0s\u001b[0m 31ms/step\n"
     ]
    },
    {
     "name": "stderr",
     "output_type": "stream",
     "text": [
      "C:\\Users\\Administrator\\AppData\\Local\\Programs\\Python\\Python312\\Lib\\site-packages\\keras\\src\\layers\\core\\dense.py:87: UserWarning: Do not pass an `input_shape`/`input_dim` argument to a layer. When using Sequential models, prefer using an `Input(shape)` object as the first layer in the model instead.\n",
      "  super().__init__(activity_regularizer=activity_regularizer, **kwargs)\n"
     ]
    },
    {
     "name": "stdout",
     "output_type": "stream",
     "text": [
      "\u001b[1m1/1\u001b[0m \u001b[32m━━━━━━━━━━━━━━━━━━━━\u001b[0m\u001b[37m\u001b[0m \u001b[1m0s\u001b[0m 31ms/step\n"
     ]
    },
    {
     "name": "stderr",
     "output_type": "stream",
     "text": [
      "C:\\Users\\Administrator\\AppData\\Local\\Programs\\Python\\Python312\\Lib\\site-packages\\keras\\src\\layers\\core\\dense.py:87: UserWarning: Do not pass an `input_shape`/`input_dim` argument to a layer. When using Sequential models, prefer using an `Input(shape)` object as the first layer in the model instead.\n",
      "  super().__init__(activity_regularizer=activity_regularizer, **kwargs)\n"
     ]
    },
    {
     "name": "stdout",
     "output_type": "stream",
     "text": [
      "\u001b[1m1/1\u001b[0m \u001b[32m━━━━━━━━━━━━━━━━━━━━\u001b[0m\u001b[37m\u001b[0m \u001b[1m0s\u001b[0m 31ms/step\n"
     ]
    },
    {
     "name": "stderr",
     "output_type": "stream",
     "text": [
      "C:\\Users\\Administrator\\AppData\\Local\\Programs\\Python\\Python312\\Lib\\site-packages\\keras\\src\\layers\\core\\dense.py:87: UserWarning: Do not pass an `input_shape`/`input_dim` argument to a layer. When using Sequential models, prefer using an `Input(shape)` object as the first layer in the model instead.\n",
      "  super().__init__(activity_regularizer=activity_regularizer, **kwargs)\n"
     ]
    },
    {
     "name": "stdout",
     "output_type": "stream",
     "text": [
      "\u001b[1m1/1\u001b[0m \u001b[32m━━━━━━━━━━━━━━━━━━━━\u001b[0m\u001b[37m\u001b[0m \u001b[1m0s\u001b[0m 31ms/step\n"
     ]
    },
    {
     "name": "stderr",
     "output_type": "stream",
     "text": [
      "C:\\Users\\Administrator\\AppData\\Local\\Programs\\Python\\Python312\\Lib\\site-packages\\keras\\src\\layers\\core\\dense.py:87: UserWarning: Do not pass an `input_shape`/`input_dim` argument to a layer. When using Sequential models, prefer using an `Input(shape)` object as the first layer in the model instead.\n",
      "  super().__init__(activity_regularizer=activity_regularizer, **kwargs)\n"
     ]
    },
    {
     "name": "stdout",
     "output_type": "stream",
     "text": [
      "\u001b[1m1/1\u001b[0m \u001b[32m━━━━━━━━━━━━━━━━━━━━\u001b[0m\u001b[37m\u001b[0m \u001b[1m0s\u001b[0m 32ms/step\n"
     ]
    },
    {
     "name": "stderr",
     "output_type": "stream",
     "text": [
      "C:\\Users\\Administrator\\AppData\\Local\\Programs\\Python\\Python312\\Lib\\site-packages\\keras\\src\\layers\\core\\dense.py:87: UserWarning: Do not pass an `input_shape`/`input_dim` argument to a layer. When using Sequential models, prefer using an `Input(shape)` object as the first layer in the model instead.\n",
      "  super().__init__(activity_regularizer=activity_regularizer, **kwargs)\n"
     ]
    },
    {
     "name": "stdout",
     "output_type": "stream",
     "text": [
      "\u001b[1m1/1\u001b[0m \u001b[32m━━━━━━━━━━━━━━━━━━━━\u001b[0m\u001b[37m\u001b[0m \u001b[1m0s\u001b[0m 31ms/step\n"
     ]
    },
    {
     "name": "stderr",
     "output_type": "stream",
     "text": [
      "C:\\Users\\Administrator\\AppData\\Local\\Programs\\Python\\Python312\\Lib\\site-packages\\keras\\src\\layers\\core\\dense.py:87: UserWarning: Do not pass an `input_shape`/`input_dim` argument to a layer. When using Sequential models, prefer using an `Input(shape)` object as the first layer in the model instead.\n",
      "  super().__init__(activity_regularizer=activity_regularizer, **kwargs)\n"
     ]
    },
    {
     "name": "stdout",
     "output_type": "stream",
     "text": [
      "\u001b[1m1/1\u001b[0m \u001b[32m━━━━━━━━━━━━━━━━━━━━\u001b[0m\u001b[37m\u001b[0m \u001b[1m0s\u001b[0m 32ms/step\n"
     ]
    },
    {
     "name": "stderr",
     "output_type": "stream",
     "text": [
      "C:\\Users\\Administrator\\AppData\\Local\\Programs\\Python\\Python312\\Lib\\site-packages\\keras\\src\\layers\\core\\dense.py:87: UserWarning: Do not pass an `input_shape`/`input_dim` argument to a layer. When using Sequential models, prefer using an `Input(shape)` object as the first layer in the model instead.\n",
      "  super().__init__(activity_regularizer=activity_regularizer, **kwargs)\n"
     ]
    },
    {
     "name": "stdout",
     "output_type": "stream",
     "text": [
      "\u001b[1m1/1\u001b[0m \u001b[32m━━━━━━━━━━━━━━━━━━━━\u001b[0m\u001b[37m\u001b[0m \u001b[1m0s\u001b[0m 32ms/step\n"
     ]
    },
    {
     "name": "stderr",
     "output_type": "stream",
     "text": [
      "C:\\Users\\Administrator\\AppData\\Local\\Programs\\Python\\Python312\\Lib\\site-packages\\keras\\src\\layers\\core\\dense.py:87: UserWarning: Do not pass an `input_shape`/`input_dim` argument to a layer. When using Sequential models, prefer using an `Input(shape)` object as the first layer in the model instead.\n",
      "  super().__init__(activity_regularizer=activity_regularizer, **kwargs)\n"
     ]
    },
    {
     "name": "stdout",
     "output_type": "stream",
     "text": [
      "\u001b[1m1/1\u001b[0m \u001b[32m━━━━━━━━━━━━━━━━━━━━\u001b[0m\u001b[37m\u001b[0m \u001b[1m0s\u001b[0m 31ms/step\n"
     ]
    },
    {
     "name": "stderr",
     "output_type": "stream",
     "text": [
      "C:\\Users\\Administrator\\AppData\\Local\\Programs\\Python\\Python312\\Lib\\site-packages\\keras\\src\\layers\\core\\dense.py:87: UserWarning: Do not pass an `input_shape`/`input_dim` argument to a layer. When using Sequential models, prefer using an `Input(shape)` object as the first layer in the model instead.\n",
      "  super().__init__(activity_regularizer=activity_regularizer, **kwargs)\n"
     ]
    },
    {
     "name": "stdout",
     "output_type": "stream",
     "text": [
      "\u001b[1m1/1\u001b[0m \u001b[32m━━━━━━━━━━━━━━━━━━━━\u001b[0m\u001b[37m\u001b[0m \u001b[1m0s\u001b[0m 31ms/step\n"
     ]
    },
    {
     "name": "stderr",
     "output_type": "stream",
     "text": [
      "C:\\Users\\Administrator\\AppData\\Local\\Programs\\Python\\Python312\\Lib\\site-packages\\keras\\src\\layers\\core\\dense.py:87: UserWarning: Do not pass an `input_shape`/`input_dim` argument to a layer. When using Sequential models, prefer using an `Input(shape)` object as the first layer in the model instead.\n",
      "  super().__init__(activity_regularizer=activity_regularizer, **kwargs)\n"
     ]
    },
    {
     "name": "stdout",
     "output_type": "stream",
     "text": [
      "\u001b[1m1/1\u001b[0m \u001b[32m━━━━━━━━━━━━━━━━━━━━\u001b[0m\u001b[37m\u001b[0m \u001b[1m0s\u001b[0m 30ms/step\n"
     ]
    },
    {
     "name": "stderr",
     "output_type": "stream",
     "text": [
      "C:\\Users\\Administrator\\AppData\\Local\\Programs\\Python\\Python312\\Lib\\site-packages\\keras\\src\\layers\\core\\dense.py:87: UserWarning: Do not pass an `input_shape`/`input_dim` argument to a layer. When using Sequential models, prefer using an `Input(shape)` object as the first layer in the model instead.\n",
      "  super().__init__(activity_regularizer=activity_regularizer, **kwargs)\n"
     ]
    }
   ],
   "source": [
    "# Cargar los datos desde los archivos proporcionados\n",
    "costos_df = pd.read_excel('Costos_Subprocesos.xlsx')\n",
    "indicadores_minas_df = pd.read_excel('Indicadores_Minas.xlsx')\n",
    "indicadores_carguio_df = pd.read_excel('Indicadores_Carguio.xlsx')\n",
    "indicadores_perforacion_df = pd.read_excel('Indicadores_Perforación.xlsx')\n",
    "indicadores_transporte_df = pd.read_excel('Indicadores_Transporte.xlsx')\n",
    "\n",
    "# Convertir las fechas a formato datetime en costos\n",
    "costos_df['Subproceso_Costo'] = pd.to_datetime(costos_df['Subproceso_Costo'])\n",
    "\n",
    "# Convertir las fechas a formato datetime en los DataFrames de indicadores\n",
    "for df in [indicadores_minas_df, indicadores_carguio_df, indicadores_perforacion_df, indicadores_transporte_df]:\n",
    "    df['Fecha'] = pd.to_datetime(df['Fecha'])\n",
    "\n",
    "# Unir todos los DataFrames de indicadores en uno solo\n",
    "indicadores_df = indicadores_minas_df.copy()\n",
    "indicadores_df = pd.merge(indicadores_df, indicadores_carguio_df, on='Fecha', how='inner', suffixes=('_minas', '_carguio'))\n",
    "indicadores_df = pd.merge(indicadores_df, indicadores_perforacion_df, on='Fecha', how='inner', suffixes=('', '_perforacion'))\n",
    "indicadores_df = pd.merge(indicadores_df, indicadores_transporte_df, on='Fecha', how='inner', suffixes=('', '_transporte'))\n",
    "\n",
    "# Unir el DataFrame de costos con el DataFrame combinado de indicadores\n",
    "df_unificado = pd.merge(costos_df, indicadores_df, left_on='Subproceso_Costo', right_on='Fecha', how='inner')\n",
    "df_unificado = df_unificado.drop(columns=['Fecha'])  # Eliminar la columna duplicada de Fecha\n",
    "\n",
    "# Calcular la correlación entre todos los subprocesos y todos los indicadores\n",
    "subprocesos_cols = costos_df.columns[1:]  # Excluyendo la columna de fecha\n",
    "indicadores_cols = indicadores_df.columns[1:]  # Excluyendo la columna de fecha\n",
    "\n",
    "correlation_matrix = df_unificado.corr()\n",
    "correlation_filtered = correlation_matrix.loc[subprocesos_cols, indicadores_cols]\n",
    "\n",
    "# Crear una tabla con los subprocesos, indicadores más correlacionados y sus valores de correlación\n",
    "resultados_lista = []\n",
    "for subproceso in correlation_filtered.index:\n",
    "    for indicador, correlacion in correlation_filtered.loc[subproceso].nlargest(3).items():\n",
    "        resultados_lista.append({\n",
    "            'Subproceso': subproceso,\n",
    "            'Indicador': indicador,\n",
    "            'Correlación': correlacion\n",
    "        })\n",
    "\n",
    "df_resultados = pd.DataFrame(resultados_lista)\n",
    "\n",
    "# Guardar los resultados en un archivo Excel\n",
    "df_resultados.to_excel('Mejor Indicador por Subproceso.xlsx', index=False)\n",
    "\n",
    "# Continuar con la división de los datos para entrenamiento y prueba\n",
    "\n",
    "# Dividir los datos en entrenamiento (2016-2021) y prueba (2022)\n",
    "train_data = df_unificado[df_unificado['Subproceso_Costo'] < '2022-01-01']\n",
    "test_data = df_unificado[(df_unificado['Subproceso_Costo'] >= '2022-01-01') & (df_unificado['Subproceso_Costo'] < '2023-01-01')]\n",
    "\n",
    "# Definir una lista de modelos a evaluar\n",
    "modelos = {\n",
    "    'Linear Regression': LinearRegression(),\n",
    "    'Polynomial Regression': LinearRegression(),  # Usaremos PolynomialFeatures más adelante\n",
    "    'Neural Network (MLP)': KerasRegressorWrapper(build_fn=create_mlp_model, input_shape=(3,), epochs=100),\n",
    "    'Random Forest': RandomForestRegressor(n_estimators=100, random_state=42),\n",
    "    'Gradient Boosting': GradientBoostingRegressor(n_estimators=100, random_state=42),\n",
    "    'XGBoost': XGBRegressor(n_estimators=100, random_state=42)\n",
    "}\n",
    "\n",
    "# Crear un diccionario para almacenar los resultados de cada modelo\n",
    "resultados_modelos = {}\n",
    "\n",
    "# Realizar predicciones para cada modelo\n",
    "for nombre_modelo, modelo in modelos.items():\n",
    "    resultados = {}\n",
    "    for subproceso in subprocesos_cols:\n",
    "        indicadores_seleccionados = top_correlations.loc[subproceso].dropna().index.tolist()\n",
    "        if len(indicadores_seleccionados) > 0:\n",
    "            X_train = train_data[indicadores_seleccionados]\n",
    "            y_train = train_data[subproceso]\n",
    "            X_test = test_data[indicadores_seleccionados]\n",
    "            \n",
    "            if nombre_modelo == 'Polynomial Regression':\n",
    "                poly = PolynomialFeatures(degree=2)\n",
    "                X_train = poly.fit_transform(X_train)\n",
    "                X_test = poly.transform(X_test)\n",
    "                modelo.fit(X_train, y_train)\n",
    "            else:\n",
    "                modelo.fit(X_train, y_train)\n",
    "            \n",
    "            y_pred_2022 = modelo.predict(X_test)\n",
    "            costo_real_2022 = costos_df[costos_df['Subproceso_Costo'] >= '2022-01-01'][subproceso].values\n",
    "            \n",
    "            # Calcular las diferencias y diferencias porcentuales\n",
    "            diferencias = y_pred_2022 - costo_real_2022\n",
    "            diferencias_pct = [(dif / real) * 100 if real != 0 else 'N/A' for dif, real in zip(diferencias, costo_real_2022)]\n",
    "            \n",
    "            # Guardar resultados en el diccionario\n",
    "            for mes, pred, real, dif, dif_pct in zip(pd.date_range('2022-01-01', '2022-12-01', freq='MS').strftime(\"%B-%Y\"), y_pred_2022, costo_real_2022, diferencias, diferencias_pct):\n",
    "                resultados.setdefault(subproceso, {}).update({\n",
    "                    f'Predicción {mes}': pred,\n",
    "                    f'Costo Real {mes}': real,\n",
    "                    f'Diferencia {mes}': dif,\n",
    "                    f'Diferencia % {mes}': dif_pct\n",
    "                })\n",
    "    \n",
    "    # Convertir los resultados a un DataFrame\n",
    "    resultados_df = pd.DataFrame(resultados).T\n",
    "    resultados_modelos[nombre_modelo] = resultados_df\n",
    "\n",
    "# Comparar los resultados entre modelos para cada subproceso y mes\n",
    "mejor_modelo_df = pd.DataFrame(columns=['Subproceso', 'Mes', 'Mejor Modelo', 'Diferencia %'])\n",
    "\n",
    "for subproceso in subprocesos_cols:\n",
    "    for mes in pd.date_range('2022-01-01', '2022-12-01', freq='MS').strftime(\"%B-%Y\"):\n",
    "        mejor_modelo = None\n",
    "        menor_diferencia = np.inf\n",
    "        \n",
    "        for nombre_modelo, df in resultados_modelos.items():\n",
    "            diferencia_col = f'Diferencia % {mes}'\n",
    "            if diferencia_col in df.columns and subproceso in df.index and df.loc[subproceso, diferencia_col] != 'N/A':\n",
    "                diferencia = abs(df.loc[subproceso, diferencia_col])\n",
    "                if diferencia < menor_diferencia:\n",
    "                    menor_diferencia = diferencia\n",
    "                    mejor_modelo = nombre_modelo\n",
    "        \n",
    "        # Guardar el mejor modelo para el subproceso y mes\n",
    "        nueva_fila = pd.DataFrame({\n",
    "            'Subproceso': [subproceso],\n",
    "            'Mes': [mes],\n",
    "            'Mejor Modelo': [mejor_modelo],\n",
    "            'Diferencia %': [menor_diferencia]\n",
    "        })\n",
    "        \n",
    "        mejor_modelo_df = pd.concat([mejor_modelo_df, nueva_fila], ignore_index=True)\n",
    "\n",
    "# Exportar como Excel los resultados\n",
    "mejor_modelo_df.to_excel(r'C:\\Users\\Administrator\\Documents\\GitHub\\Hackathon2-2024\\1. Desarollo\\Resultados\\Costos_Indicadores_Mina_Mejor_Modelo.xlsx', index=False)\n",
    "\n",
    "# Mostrar los resultados\n",
    "print(mejor_modelo_df)\n"
   ]
  },
  {
   "cell_type": "code",
   "execution_count": 17,
   "id": "a2d55981-3083-4f27-a12b-e9fc5bdc75d0",
   "metadata": {},
   "outputs": [
    {
     "data": {
      "text/plain": [
       "(                                January-2022         February-2022  \\\n",
       " ADM OPERACIÓN Y GESTIÓN ESP             None     Linear Regression   \n",
       " ADM OPERACIÓN Y GESTIÓN ESP SUR      XGBoost                   RNN   \n",
       " ADM OPERACIÓN Y GESTIÓN LLANO           None                  None   \n",
       " ADM OPERACIÓN Y GESTIÓN MIR             None                  LSTM   \n",
       " ADM OPERACIÓN Y GESTIÓN OXE             None  Neural Network (MLP)   \n",
       " \n",
       "                                             March-2022     April-2022  \\\n",
       " ADM OPERACIÓN Y GESTIÓN ESP          Gradient Boosting  Random Forest   \n",
       " ADM OPERACIÓN Y GESTIÓN ESP SUR  Polynomial Regression            CNN   \n",
       " ADM OPERACIÓN Y GESTIÓN LLANO                     None           None   \n",
       " ADM OPERACIÓN Y GESTIÓN MIR                       LSTM  Random Forest   \n",
       " ADM OPERACIÓN Y GESTIÓN OXE                        RNN            CNN   \n",
       " \n",
       "                                           May-2022 June-2022  \\\n",
       " ADM OPERACIÓN Y GESTIÓN ESP      Gradient Boosting   XGBoost   \n",
       " ADM OPERACIÓN Y GESTIÓN ESP SUR  Gradient Boosting       RNN   \n",
       " ADM OPERACIÓN Y GESTIÓN LLANO                 None      None   \n",
       " ADM OPERACIÓN Y GESTIÓN MIR                XGBoost       CNN   \n",
       " ADM OPERACIÓN Y GESTIÓN OXE      Gradient Boosting       GRU   \n",
       " \n",
       "                                              July-2022        August-2022  \\\n",
       " ADM OPERACIÓN Y GESTIÓN ESP      Polynomial Regression  Linear Regression   \n",
       " ADM OPERACIÓN Y GESTIÓN ESP SUR                    RNN      Random Forest   \n",
       " ADM OPERACIÓN Y GESTIÓN LLANO                     None               None   \n",
       " ADM OPERACIÓN Y GESTIÓN MIR                        CNN                CNN   \n",
       " ADM OPERACIÓN Y GESTIÓN OXE                        RNN                RNN   \n",
       " \n",
       "                                 September-2022   October-2022  \\\n",
       " ADM OPERACIÓN Y GESTIÓN ESP      Random Forest            RNN   \n",
       " ADM OPERACIÓN Y GESTIÓN ESP SUR  Random Forest  Random Forest   \n",
       " ADM OPERACIÓN Y GESTIÓN LLANO             None           None   \n",
       " ADM OPERACIÓN Y GESTIÓN MIR                CNN            CNN   \n",
       " ADM OPERACIÓN Y GESTIÓN OXE                RNN        XGBoost   \n",
       " \n",
       "                                          November-2022          December-2022  \n",
       " ADM OPERACIÓN Y GESTIÓN ESP      Polynomial Regression                XGBoost  \n",
       " ADM OPERACIÓN Y GESTIÓN ESP SUR          Random Forest          Random Forest  \n",
       " ADM OPERACIÓN Y GESTIÓN LLANO                     None                   None  \n",
       " ADM OPERACIÓN Y GESTIÓN MIR      Polynomial Regression  Polynomial Regression  \n",
       " ADM OPERACIÓN Y GESTIÓN OXE                        RNN   Neural Network (MLP)  ,\n",
       "                                 January-2022 February-2022 March-2022  \\\n",
       " ADM OPERACIÓN Y GESTIÓN ESP              inf      5.738844  13.330903   \n",
       " ADM OPERACIÓN Y GESTIÓN ESP SUR    99.997421      2.199328  31.534525   \n",
       " ADM OPERACIÓN Y GESTIÓN LLANO            inf           inf        inf   \n",
       " ADM OPERACIÓN Y GESTIÓN MIR              inf     28.795446   0.379387   \n",
       " ADM OPERACIÓN Y GESTIÓN OXE              inf     26.630908  46.264131   \n",
       " \n",
       "                                 April-2022   May-2022   June-2022   July-2022  \\\n",
       " ADM OPERACIÓN Y GESTIÓN ESP       0.115401   5.585125   14.728625    0.304372   \n",
       " ADM OPERACIÓN Y GESTIÓN ESP SUR  42.026435  15.330751    4.039901   11.360146   \n",
       " ADM OPERACIÓN Y GESTIÓN LLANO          inf        inf         inf         inf   \n",
       " ADM OPERACIÓN Y GESTIÓN MIR       0.512271    0.87201   65.014727   20.756164   \n",
       " ADM OPERACIÓN Y GESTIÓN OXE      69.853131   87.30529  426.128013  494.572324   \n",
       " \n",
       "                                 August-2022 September-2022 October-2022  \\\n",
       " ADM OPERACIÓN Y GESTIÓN ESP       18.281701       0.067381     3.046586   \n",
       " ADM OPERACIÓN Y GESTIÓN ESP SUR   62.827784       45.01579    45.389192   \n",
       " ADM OPERACIÓN Y GESTIÓN LLANO           inf            inf          inf   \n",
       " ADM OPERACIÓN Y GESTIÓN MIR       31.091938        53.8915    48.866138   \n",
       " ADM OPERACIÓN Y GESTIÓN OXE      616.744509     421.815147   617.556264   \n",
       " \n",
       "                                 November-2022 December-2022  \n",
       " ADM OPERACIÓN Y GESTIÓN ESP          1.814239      0.170993  \n",
       " ADM OPERACIÓN Y GESTIÓN ESP SUR     47.768874     51.944214  \n",
       " ADM OPERACIÓN Y GESTIÓN LLANO             inf           inf  \n",
       " ADM OPERACIÓN Y GESTIÓN MIR         57.652438      5.490553  \n",
       " ADM OPERACIÓN Y GESTIÓN OXE        687.829145     29.153253  )"
      ]
     },
     "execution_count": 17,
     "metadata": {},
     "output_type": "execute_result"
    }
   ],
   "source": [
    "# Crear DataFrames para almacenar los mejores modelos y sus diferencias\n",
    "mejores_modelos_df = pd.DataFrame(index=subprocesos_cols, columns=pd.date_range('2022-01-01', '2022-12-01', freq='MS').strftime(\"%B-%Y\"))\n",
    "diferencias_df = pd.DataFrame(index=subprocesos_cols, columns=pd.date_range('2022-01-01', '2022-12-01', freq='MS').strftime(\"%B-%Y\"))\n",
    "# Comparar los resultados entre modelos para cada subproceso y mes\n",
    "for subproceso in subprocesos_cols:\n",
    "    for mes in pd.date_range('2022-01-01', '2022-12-01', freq='MS').strftime(\"%B-%Y\"):\n",
    "        mejor_modelo = None\n",
    "        menor_diferencia = np.inf\n",
    "        \n",
    "        for nombre_modelo, df in resultados_modelos.items():\n",
    "            diferencia_col = f'Diferencia % {mes}'\n",
    "            if diferencia_col in df.columns and subproceso in df.index and df.loc[subproceso, diferencia_col] != 'N/A':\n",
    "                diferencia = abs(df.loc[subproceso, diferencia_col])\n",
    "                if diferencia < menor_diferencia:\n",
    "                    menor_diferencia = diferencia\n",
    "                    mejor_modelo = nombre_modelo\n",
    "        \n",
    "        # Guardar el mejor modelo y su diferencia\n",
    "        mejores_modelos_df.loc[subproceso, mes] = mejor_modelo\n",
    "        diferencias_df.loc[subproceso, mes] = menor_diferencia\n",
    "\n",
    "# Exportar los resultados a un archivo Excel con dos hojas\n",
    "output_file_path = r'C:\\Users\\Administrator\\Documents\\GitHub\\Hackathon2-2024\\1. Desarollo\\Resultados\\ResultadoFinal.xlsx'\n",
    "\n",
    "with pd.ExcelWriter(output_file_path) as writer:\n",
    "    mejores_modelos_df.to_excel(writer, sheet_name='Mejores Modelos')\n",
    "    diferencias_df.to_excel(writer, sheet_name='Diferencias %')\n",
    "\n",
    "# Mostrar los primeros registros de cada DataFrame\n",
    "mejores_modelos_df.head(), diferencias_df.head()"
   ]
  },
  {
   "cell_type": "code",
   "execution_count": null,
   "id": "d37899ca-a358-406b-b533-5fde095ddb9f",
   "metadata": {},
   "outputs": [],
   "source": []
  },
  {
   "cell_type": "code",
   "execution_count": null,
   "id": "e3644369-b1f7-4fbc-a68c-d406be9cce51",
   "metadata": {},
   "outputs": [],
   "source": []
  }
 ],
 "metadata": {
  "kernelspec": {
   "display_name": "Python 3 (ipykernel)",
   "language": "python",
   "name": "python3"
  },
  "language_info": {
   "codemirror_mode": {
    "name": "ipython",
    "version": 3
   },
   "file_extension": ".py",
   "mimetype": "text/x-python",
   "name": "python",
   "nbconvert_exporter": "python",
   "pygments_lexer": "ipython3",
   "version": "3.12.5"
  }
 },
 "nbformat": 4,
 "nbformat_minor": 5
}
