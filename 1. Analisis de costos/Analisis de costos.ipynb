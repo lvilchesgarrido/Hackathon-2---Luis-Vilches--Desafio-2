{
 "cells": [
  {
   "cell_type": "code",
   "execution_count": 3,
   "id": "17e70f4a-c833-48ec-8edc-4891d2a799f0",
   "metadata": {},
   "outputs": [
    {
     "name": "stdout",
     "output_type": "stream",
     "text": [
      "Análisis completado y resultados guardados en 'C:\\Users\\Administrator\\Documents\\GitHub\\Hackathon2-2024\\1. Desarollo\\Resultados\\Analisis costos.xlsx'\n"
     ]
    }
   ],
   "source": [
    "import pandas as pd\n",
    "import numpy as np\n",
    "\n",
    "# Cargar la base de datos\n",
    "DF_costos = pd.read_excel('Base costos minera centinela.xlsx', sheet_name='Costos')\n",
    "\n",
    "# Suponiendo que la primera columna es un identificador o fecha, la excluimos\n",
    "DF_costos_numericos = DF_costos.iloc[:, 1:].apply(pd.to_numeric, errors='coerce')\n",
    "\n",
    "# Filtrar los datos eliminando filas con solo NaN, pero manteniendo todas las columnas\n",
    "DF_costos_filtrados_sin_cero = DF_costos_numericos.replace(0, np.nan).dropna(how='all', axis=0)\n",
    "\n",
    "# Calcular la variabilidad (std/mean) de cada clase\n",
    "variabilidad_filtrada_sin_cero = DF_costos_filtrados_sin_cero.std() / DF_costos_filtrados_sin_cero.mean()\n",
    "\n",
    "# Crear DataFrame con estadísticas\n",
    "DF_estadisticas_costos = DF_costos_numericos.describe().transpose()[['mean', 'min', 'max']].copy()\n",
    "DF_moda = DF_costos_numericos.mode().transpose()[0]\n",
    "DF_estadisticas_costos['moda'] = DF_moda\n",
    "DF_desviacion_estandar = DF_costos_numericos.std()\n",
    "DF_estadisticas_costos['desviacion_estandar'] = DF_desviacion_estandar\n",
    "DF_estadisticas_costos['coef_variacion'] = variabilidad_filtrada_sin_cero\n",
    "\n",
    "# Lógica para clasificación:\n",
    "def clasificar_costo(row):\n",
    "    if row['mean'] == row['min'] == row['max']:\n",
    "        if row['mean'] == 0:\n",
    "            return'Sin Registros'\n",
    "        else:\n",
    "            return'Fijo'\n",
    "    elif row['coef_variacion'] > umbral:\n",
    "        return'Variable'\n",
    "    else:\n",
    "         return'Fijo'\n",
    "\n",
    "umbral = 1.0# Umbral para clasificación# Aplicar la lógica de clasificación\n",
    "DF_estadisticas_costos['Clasificacion'] = DF_estadisticas_costos.apply(clasificar_costo, axis=1)\n",
    "\n",
    "# Resumen de la clasificación\n",
    "conteo_clasificados = DF_estadisticas_costos['Clasificacion'].value_counts()\n",
    "DF_resumen = pd.DataFrame({\n",
    "    'Categoria': ['Costos Fijos', 'Costos Variables', 'Sin Registros'],\n",
    "    'Cantidad': [conteo_clasificados.get('Fijo', 0), conteo_clasificados.get('Variable', 0), conteo_clasificados.get('Sin Registros', 0)]\n",
    "})\n",
    "\n",
    "# Exportar a un solo archivo Excel con dos hojas\n",
    "ruta_archivo_salida = r'C:\\Users\\Administrator\\Documents\\GitHub\\Hackathon2-2024\\1. Desarollo\\Resultados\\Analisis costos.xlsx'\n",
    "with pd.ExcelWriter(ruta_archivo_salida) as writer:\n",
    "    DF_estadisticas_costos.to_excel(writer, sheet_name='A1', index=True)\n",
    "    DF_resumen.to_excel(writer, sheet_name='A2', index=False)\n",
    "\n",
    "print(f\"Análisis completado y resultados guardados en '{ruta_archivo_salida}'\")\n"
   ]
  },
  {
   "cell_type": "code",
   "execution_count": 2,
   "id": "b0ab1d53-a6e9-4e35-9f99-2812bbc5f79b",
   "metadata": {},
   "outputs": [
    {
     "name": "stdout",
     "output_type": "stream",
     "text": [
      "Resumen exportado a 'C:\\Users\\Administrator\\Documents\\GitHub\\Hackathon2-2024\\1. Desarollo\\Resultados\\Resumen_Top_Costos_Clasificacion.xlsx'\n"
     ]
    }
   ],
   "source": [
    "import pandas as pd\n",
    "\n",
    "# Cargar los datos procesados del DataFrame de estadísticas desde el archivo Excel\n",
    "DF_estadisticas_costos = pd.read_excel('Analisis de costos_mod.xlsx', sheet_name='A1')\n",
    "\n",
    "# Filtrar los datos excluyendo aquellos sin registros\n",
    "DF_estadisticas_filtradas = DF_estadisticas_costos[DF_estadisticas_costos['Clasificacion'] != 'Sin Registros']\n",
    "\n",
    "# Calcular las 3 clases con más costos para cada centro\n",
    "top_clases_por_centro_clasif = (\n",
    "    DF_estadisticas_filtradas.groupby(['Centro', 'Clase', 'Clasificacion'])['Media']\n",
    "    .sum()\n",
    "    .groupby(level=0, group_keys=False)\n",
    "    .nlargest(3)\n",
    "    .reset_index()\n",
    ")\n",
    "\n",
    "# Calcular los 3 centros con más costos para cada subproceso\n",
    "top_centros_por_subproceso_clasif = (\n",
    "    DF_estadisticas_filtradas.groupby(['SubProceso', 'Centro', 'Clasificacion'])['Media']\n",
    "    .sum()\n",
    "    .groupby(level=0, group_keys=False)\n",
    "    .nlargest(3)\n",
    "    .reset_index()\n",
    ")\n",
    "\n",
    "# Calcular los 3 subprocesos con más costos para cada proceso\n",
    "top_subprocesos_por_proceso_clasif = (\n",
    "    DF_estadisticas_filtradas.groupby(['Proceso', 'SubProceso', 'Clasificacion'])['Media']\n",
    "    .sum()\n",
    "    .groupby(level=0, group_keys=False)\n",
    "    .nlargest(3)\n",
    "    .reset_index()\n",
    ")\n",
    "\n",
    "# Exportar los resultados a un archivo Excel\n",
    "ruta_archivo_salida = r'C:\\Users\\Administrator\\Documents\\GitHub\\Hackathon2-2024\\1. Desarollo\\Resultados\\Resumen_Top_Costos_Clasificacion.xlsx'\n",
    "with pd.ExcelWriter(ruta_archivo_salida) as writer:\n",
    "    top_clases_por_centro_clasif.to_excel(writer, sheet_name='Top Clases por Centro', index=False)\n",
    "    top_centros_por_subproceso_clasif.to_excel(writer, sheet_name='Top Centros por SubProceso', index=False)\n",
    "    top_subprocesos_por_proceso_clasif.to_excel(writer, sheet_name='Top SubProcesos por Proceso', index=False)\n",
    "\n",
    "print(f\"Resumen exportado a '{ruta_archivo_salida}'\")\n"
   ]
  },
  {
   "cell_type": "code",
   "execution_count": null,
   "id": "c21bdfbf-037c-4a8b-906a-7d3c6d8eda8c",
   "metadata": {},
   "outputs": [],
   "source": []
  }
 ],
 "metadata": {
  "kernelspec": {
   "display_name": "Python 3 (ipykernel)",
   "language": "python",
   "name": "python3"
  },
  "language_info": {
   "codemirror_mode": {
    "name": "ipython",
    "version": 3
   },
   "file_extension": ".py",
   "mimetype": "text/x-python",
   "name": "python",
   "nbconvert_exporter": "python",
   "pygments_lexer": "ipython3",
   "version": "3.12.5"
  }
 },
 "nbformat": 4,
 "nbformat_minor": 5
}
